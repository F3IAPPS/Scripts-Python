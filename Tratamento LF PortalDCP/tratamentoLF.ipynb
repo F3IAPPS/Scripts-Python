{
 "cells": [
  {
   "cell_type": "code",
   "execution_count": 18,
   "id": "d27fc984",
   "metadata": {},
   "outputs": [],
   "source": [
    "import pandas as pd\n",
    "lf = pd.read_excel('lf_nov22.xlsx')\n",
    "lf['id']=''\n",
    "lf = lf[['id','ID_FUNCIONAL','POSTO_GRAD','NOME_COMPLETO','UA']]\n",
    "\n",
    "lf.dropna(inplace=True)\n",
    "\n",
    "lf.drop_duplicates(inplace=True)\n",
    "lf.reset_index(drop=True,inplace=True)\n",
    "\n",
    "n=1\n",
    "\n",
    "for i,id in enumerate(lf['id']):\n",
    "    lf.loc[i,'id']=int(n)\n",
    "    n+=1\n",
    "    \n",
    "for i,grad in enumerate(lf['POSTO_GRAD']):\n",
    "    if 'o' in grad:\n",
    "        lf.loc[i,'POSTO_GRAD']=grad.replace('o','º')\n",
    "\n",
    "lf.to_csv('policiais.csv',index=False)"
   ]
  }
 ],
 "metadata": {
  "kernelspec": {
   "display_name": "Python 3 (ipykernel)",
   "language": "python",
   "name": "python3"
  },
  "language_info": {
   "codemirror_mode": {
    "name": "ipython",
    "version": 3
   },
   "file_extension": ".py",
   "mimetype": "text/x-python",
   "name": "python",
   "nbconvert_exporter": "python",
   "pygments_lexer": "ipython3",
   "version": "3.9.13"
  }
 },
 "nbformat": 4,
 "nbformat_minor": 5
}
