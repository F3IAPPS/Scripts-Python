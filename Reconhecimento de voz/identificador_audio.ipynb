{
 "cells": [
  {
   "cell_type": "code",
   "execution_count": null,
   "id": "fb413369",
   "metadata": {},
   "outputs": [],
   "source": [
    "# Instalar: \n",
    "# SpeechRecognition\n",
    "#!pip install SpeechRecognition\n",
    "# PyAudio\n",
    "#!pip install pyaudio"
   ]
  },
  {
   "cell_type": "code",
   "execution_count": 4,
   "id": "93071fef",
   "metadata": {},
   "outputs": [],
   "source": [
    "import speech_recognition as sr"
   ]
  },
  {
   "cell_type": "code",
   "execution_count": 5,
   "id": "6f747617",
   "metadata": {},
   "outputs": [
    {
     "name": "stdout",
     "output_type": "stream",
     "text": [
      "['Mapeador de som da Microsoft - Input', 'Grupo de microfones (Realtek Au', 'Headset (Redmi AirDots 2)', 'Mapeador de som da Microsoft - Output', 'Fones de ouvido (Redmi AirDots ', 'Fones de ouvido / Alto falantes', 'Driver de captura de som primÃ¡rio', 'Grupo de microfones (Realtek Audio)', 'Headset (Redmi AirDots 2)', 'Driver de som primÃ¡rio', 'Fones de ouvido (Redmi AirDots 2)', 'Fones de ouvido / Alto falantes (Realtek Audio)', 'Fones de ouvido (Redmi AirDots 2)', 'Fones de ouvido / Alto falantes (Realtek Audio)', 'Headset (Redmi AirDots 2)', 'Grupo de microfones (Realtek Audio)', 'SaÃ\\xadda do MicrofoneMic (Realtek HD Audio Front Mic input)', 'Speakers (Realtek HD Audio output with SST)', 'Mixagem estÃ©reo (Realtek HD Audio Stereo input)', 'Grupo de microfones 1 (Realtek HD Audio Mic input with SST)', 'Grupo de microfones 2 (Realtek HD Audio Mic input with SST)', 'Grupo de microfones 3 (Realtek HD Audio Mic input with SST)', 'Fones de ouvido ()', 'Headset (@System32\\\\drivers\\\\bthhfenum.sys,#2;%1 Hands-Free%0\\r\\n;(Redmi AirDots 2))', 'Headset (@System32\\\\drivers\\\\bthhfenum.sys,#2;%1 Hands-Free%0\\r\\n;(Redmi AirDots 2))']\n"
     ]
    }
   ],
   "source": [
    "# lista os microfones ativos\n",
    "print(sr.Microphone().list_microphone_names())"
   ]
  },
  {
   "cell_type": "code",
   "execution_count": 9,
   "id": "e69126b4",
   "metadata": {},
   "outputs": [
    {
     "name": "stdout",
     "output_type": "stream",
     "text": [
      "result2:\n",
      "{   'alternative': [   {   'confidence': 0.95949113,\n",
      "                           'transcript': 'teste de som 123'},\n",
      "                       {'transcript': 'teste de som um dois três'},\n",
      "                       {'transcript': 'teste de som 1 2 3'},\n",
      "                       {'transcript': 'o teste de som 123'}],\n",
      "    'final': True}\n",
      "teste de som 123\n"
     ]
    }
   ],
   "source": [
    "# Criar um reconhecedor\n",
    "rec = sr.Recognizer()\n",
    "#Se for usar o mic padrão: sr.Microphone(), caso use outro usar o índice da lista acima, \n",
    "#ex.: sr.Microphone(2) para usar o 'Headset (Redmi AirDots 2)' \n",
    "with sr.Microphone() as microfone:\n",
    "    #tratamento de ruido\n",
    "    rec.adjust_for_ambient_noise(microfone)\n",
    "    \n",
    "    audio = rec.listen(microfone)\n",
    "    #reconhecimento do áudio\n",
    "    texto = rec.recognize_google(audio, language=\"pt-BR\")\n",
    "    print(texto)\n",
    "    \n",
    "# Criar um microfone - Ouve o áudio"
   ]
  },
  {
   "cell_type": "code",
   "execution_count": null,
   "id": "704b014e",
   "metadata": {},
   "outputs": [],
   "source": []
  }
 ],
 "metadata": {
  "kernelspec": {
   "display_name": "Python 3 (ipykernel)",
   "language": "python",
   "name": "python3"
  },
  "language_info": {
   "codemirror_mode": {
    "name": "ipython",
    "version": 3
   },
   "file_extension": ".py",
   "mimetype": "text/x-python",
   "name": "python",
   "nbconvert_exporter": "python",
   "pygments_lexer": "ipython3",
   "version": "3.9.13"
  }
 },
 "nbformat": 4,
 "nbformat_minor": 5
}
