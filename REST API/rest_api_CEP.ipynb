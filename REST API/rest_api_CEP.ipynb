{
 "cells": [
  {
   "cell_type": "code",
   "execution_count": 1,
   "id": "96d596f3",
   "metadata": {},
   "outputs": [],
   "source": [
    "import requests"
   ]
  },
  {
   "cell_type": "code",
   "execution_count": 30,
   "id": "bfe90370",
   "metadata": {},
   "outputs": [
    {
     "name": "stdout",
     "output_type": "stream",
     "text": [
      "CEP: 20970.007\n",
      "ponto\n",
      "<Response [200]>\n",
      "{'cep': '20970007', 'address_type': 'Rua', 'address_name': 'Lino Teixeira', 'address': 'Rua Lino Teixeira', 'state': 'RJ', 'district': 'Jacaré', 'lat': '-22.89564', 'lng': '-43.25242', 'city': 'Rio de Janeiro', 'city_ibge': '3304557', 'ddd': '21'}\n",
      "Endereço: Rua Lino Teixeira, RJ\n"
     ]
    }
   ],
   "source": [
    "cep = input('CEP: ')\n",
    "if '-' in cep:\n",
    "    print('traco')\n",
    "    cep=cep.replace('-','')\n",
    "elif '/' in cep:\n",
    "    print('barra')\n",
    "    cep=cep.replace(\"/\",\"\")\n",
    "    print(cep)\n",
    "elif '.' in cep:\n",
    "    print('ponto')\n",
    "    cep=cep.replace(\".\",\"\")\n",
    "else:\n",
    "    print('Deixa de ser biba e digita direito')\n",
    "    \n",
    "link = 'https://cep.awesomeapi.com.br/json/'+cep\n",
    "requisicao = requests.get(link)\n",
    "endereco = requisicao.json()\n",
    "print(requisicao)\n",
    "print(endereco)\n",
    "print(f'Endereço: {endereco[\"address\"]}, {endereco[\"state\"]}')"
   ]
  },
  {
   "cell_type": "code",
   "execution_count": null,
   "id": "21279739",
   "metadata": {},
   "outputs": [],
   "source": []
  }
 ],
 "metadata": {
  "kernelspec": {
   "display_name": "Python 3 (ipykernel)",
   "language": "python",
   "name": "python3"
  },
  "language_info": {
   "codemirror_mode": {
    "name": "ipython",
    "version": 3
   },
   "file_extension": ".py",
   "mimetype": "text/x-python",
   "name": "python",
   "nbconvert_exporter": "python",
   "pygments_lexer": "ipython3",
   "version": "3.9.13"
  }
 },
 "nbformat": 4,
 "nbformat_minor": 5
}
